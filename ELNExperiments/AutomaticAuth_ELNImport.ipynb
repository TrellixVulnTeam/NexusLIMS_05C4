{
 "cells": [
  {
   "cell_type": "code",
   "execution_count": null,
   "id": "a5ae1b18-3c4a-4972-9557-6e5fd4970abf",
   "metadata": {},
   "outputs": [],
   "source": [
    "# Imports\n",
    "\n",
    "import requests\n",
    "from pprint import pprint"
   ]
  },
  {
   "cell_type": "code",
   "execution_count": null,
   "id": "110918d2-8606-4732-8920-d4ff811dc9e1",
   "metadata": {},
   "outputs": [],
   "source": [
    "# Get Authentication Token\n",
    "from subprocess import Popen, PIPE\n",
    "args = [\"python\", \"../GetAuthToken.py\"]\n",
    "p = Popen(args, stdout=PIPE, stderr=PIPE, shell=True, text=True)\n",
    "for token in p.stdout:\n",
    "    pass"
   ]
  },
  {
   "cell_type": "code",
   "execution_count": null,
   "id": "58188de3-684e-4ebd-aa07-14120e0a5772",
   "metadata": {},
   "outputs": [],
   "source": [
    "# Edit Auth Token to Remove Suffix\n",
    "if token.endswith('\\n'):\n",
    "    token = token[:-1]"
   ]
  },
  {
   "cell_type": "code",
   "execution_count": null,
   "id": "6926d439-2744-4992-9408-a66299938109",
   "metadata": {},
   "outputs": [],
   "source": [
    "# Headers\n",
    "\n",
    "headers = {\"Authorization\": \"Bearer TOKEN_GOES_HERE\"}\n",
    "r = requests.get(\"https://graph.microsoft.com/v1.0/me/onenote/notebooks\", headers=headers)\n",
    "\n",
    "h = {\"Authorization\": f\"Bearer {token}\"}"
   ]
  },
  {
   "cell_type": "code",
   "execution_count": null,
   "id": "7ec4d7b5-28d8-4191-968b-01605435af41",
   "metadata": {},
   "outputs": [],
   "source": [
    "# Round 1 (Get Notebooks)\n",
    "\n",
    "notebooks = requests.get(\"https://graph.microsoft.com/v1.0/me/onenote/notebooks?includesharednotebooks=True\", headers = h)\n",
    "pprint(notebooks.json())"
   ]
  },
  {
   "cell_type": "code",
   "execution_count": null,
   "id": "ef6eaa74-1e31-42fb-a0a5-559831446974",
   "metadata": {},
   "outputs": [],
   "source": [
    "# Round 2 (Get Sections)\n",
    "\n",
    "sections = requests.get(\"PASTE 'SECTIONS URL' HERE\", headers = h)\n",
    "pprint(sections.json())\n"
   ]
  },
  {
   "cell_type": "code",
   "execution_count": null,
   "id": "a50eff9d-e646-48e7-a7c5-e6d4bdb96cb3",
   "metadata": {},
   "outputs": [],
   "source": [
    "# Round 3 (Get Pages in Section)\n",
    "\n",
    "t = requests.get(\"PASTE 'PAGES URL' HERE\", headers = h)\n",
    "pprint(t.json())"
   ]
  },
  {
   "cell_type": "code",
   "execution_count": null,
   "id": "d68e2f83-076a-49ff-8fb7-eb8f7657ec95",
   "metadata": {},
   "outputs": [],
   "source": [
    "# Round 4 (Get Page Content)\n",
    "\n",
    "t = requests.get(\"PASTE 'CONTENT URL' HERE\", headers = h)\n",
    "print(t.text)"
   ]
  },
  {
   "cell_type": "code",
   "execution_count": null,
   "id": "13a9016a-c9e4-4c0c-9856-f0f2948321a3",
   "metadata": {},
   "outputs": [],
   "source": [
    "# Round 4 (Save image - Write bytes to file)\n",
    "\n",
    "t = requests.get(\"PASTE IMAGE URL HERE\", headers = h) \n",
    "\n",
    "file = t.content\n",
    "image = open(\"image.png\", 'wb')\n",
    "image.write(file)\n",
    "image.close()"
   ]
  }
 ],
 "metadata": {
  "kernelspec": {
   "display_name": "Python 3",
   "language": "python",
   "name": "python3"
  },
  "language_info": {
   "codemirror_mode": {
    "name": "ipython",
    "version": 3
   },
   "file_extension": ".py",
   "mimetype": "text/x-python",
   "name": "python",
   "nbconvert_exporter": "python",
   "pygments_lexer": "ipython3",
   "version": "3.8.8"
  }
 },
 "nbformat": 4,
 "nbformat_minor": 5
}
